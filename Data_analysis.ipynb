{
 "cells": [
  {
   "cell_type": "code",
   "execution_count": 7,
   "id": "20172289",
   "metadata": {},
   "outputs": [],
   "source": [
    "import pandas as pd\n",
    "import matplotlib.pyplot as plt\n",
    "import numpy as np"
   ]
  },
  {
   "cell_type": "code",
   "execution_count": 8,
   "id": "9a18d4dd-51e5-4881-8b67-62f942c4cbe7",
   "metadata": {},
   "outputs": [],
   "source": [
    "df=pd.read_csv(\"car_done.csv\")"
   ]
  },
  {
   "cell_type": "code",
   "execution_count": 9,
   "id": "a0685d3e-3d7b-4c53-a63e-605ac7525447",
   "metadata": {},
   "outputs": [
    {
     "data": {
      "text/html": [
       "<div>\n",
       "<style scoped>\n",
       "    .dataframe tbody tr th:only-of-type {\n",
       "        vertical-align: middle;\n",
       "    }\n",
       "\n",
       "    .dataframe tbody tr th {\n",
       "        vertical-align: top;\n",
       "    }\n",
       "\n",
       "    .dataframe thead th {\n",
       "        text-align: right;\n",
       "    }\n",
       "</style>\n",
       "<table border=\"1\" class=\"dataframe\">\n",
       "  <thead>\n",
       "    <tr style=\"text-align: right;\">\n",
       "      <th></th>\n",
       "      <th>Unnamed: 0</th>\n",
       "      <th>Manufacturer</th>\n",
       "      <th>Model</th>\n",
       "      <th>Sales_in_thousands</th>\n",
       "      <th>four_year_resale_value</th>\n",
       "      <th>Vehicle_type</th>\n",
       "      <th>Price_in_thousands</th>\n",
       "      <th>Engine_size</th>\n",
       "      <th>Horsepower</th>\n",
       "      <th>Wheelbase</th>\n",
       "      <th>Width</th>\n",
       "      <th>Length</th>\n",
       "      <th>Curb_weight</th>\n",
       "      <th>Fuel_capacity</th>\n",
       "      <th>Fuel_efficiency</th>\n",
       "      <th>Latest_Launch</th>\n",
       "      <th>Power_perf_factor</th>\n",
       "    </tr>\n",
       "  </thead>\n",
       "  <tbody>\n",
       "    <tr>\n",
       "      <th>0</th>\n",
       "      <td>0</td>\n",
       "      <td>Acura</td>\n",
       "      <td>Integra</td>\n",
       "      <td>16.919</td>\n",
       "      <td>16.360</td>\n",
       "      <td>Passenger</td>\n",
       "      <td>21.50</td>\n",
       "      <td>1.8</td>\n",
       "      <td>140.0</td>\n",
       "      <td>101.2</td>\n",
       "      <td>67.3</td>\n",
       "      <td>172.4</td>\n",
       "      <td>2.639</td>\n",
       "      <td>13.2</td>\n",
       "      <td>28.0</td>\n",
       "      <td>2/2/2012</td>\n",
       "      <td>58.280150</td>\n",
       "    </tr>\n",
       "    <tr>\n",
       "      <th>1</th>\n",
       "      <td>1</td>\n",
       "      <td>Acura</td>\n",
       "      <td>TL</td>\n",
       "      <td>39.384</td>\n",
       "      <td>19.875</td>\n",
       "      <td>Passenger</td>\n",
       "      <td>28.40</td>\n",
       "      <td>3.2</td>\n",
       "      <td>225.0</td>\n",
       "      <td>108.1</td>\n",
       "      <td>70.3</td>\n",
       "      <td>192.9</td>\n",
       "      <td>3.517</td>\n",
       "      <td>17.2</td>\n",
       "      <td>25.0</td>\n",
       "      <td>6/3/2011</td>\n",
       "      <td>91.370778</td>\n",
       "    </tr>\n",
       "    <tr>\n",
       "      <th>2</th>\n",
       "      <td>2</td>\n",
       "      <td>Acura</td>\n",
       "      <td>CL</td>\n",
       "      <td>14.114</td>\n",
       "      <td>18.225</td>\n",
       "      <td>Passenger</td>\n",
       "      <td>NaN</td>\n",
       "      <td>3.2</td>\n",
       "      <td>225.0</td>\n",
       "      <td>106.9</td>\n",
       "      <td>70.6</td>\n",
       "      <td>192.0</td>\n",
       "      <td>3.470</td>\n",
       "      <td>17.2</td>\n",
       "      <td>26.0</td>\n",
       "      <td>1/4/2012</td>\n",
       "      <td>NaN</td>\n",
       "    </tr>\n",
       "    <tr>\n",
       "      <th>3</th>\n",
       "      <td>3</td>\n",
       "      <td>Acura</td>\n",
       "      <td>RL</td>\n",
       "      <td>8.588</td>\n",
       "      <td>29.725</td>\n",
       "      <td>Passenger</td>\n",
       "      <td>42.00</td>\n",
       "      <td>3.5</td>\n",
       "      <td>210.0</td>\n",
       "      <td>114.6</td>\n",
       "      <td>71.4</td>\n",
       "      <td>196.6</td>\n",
       "      <td>3.850</td>\n",
       "      <td>18.0</td>\n",
       "      <td>22.0</td>\n",
       "      <td>3/10/2011</td>\n",
       "      <td>91.389779</td>\n",
       "    </tr>\n",
       "    <tr>\n",
       "      <th>4</th>\n",
       "      <td>4</td>\n",
       "      <td>Audi</td>\n",
       "      <td>A4</td>\n",
       "      <td>20.397</td>\n",
       "      <td>22.255</td>\n",
       "      <td>Passenger</td>\n",
       "      <td>23.99</td>\n",
       "      <td>1.8</td>\n",
       "      <td>150.0</td>\n",
       "      <td>102.6</td>\n",
       "      <td>68.2</td>\n",
       "      <td>178.0</td>\n",
       "      <td>2.998</td>\n",
       "      <td>16.4</td>\n",
       "      <td>27.0</td>\n",
       "      <td>10/8/2011</td>\n",
       "      <td>62.777639</td>\n",
       "    </tr>\n",
       "    <tr>\n",
       "      <th>...</th>\n",
       "      <td>...</td>\n",
       "      <td>...</td>\n",
       "      <td>...</td>\n",
       "      <td>...</td>\n",
       "      <td>...</td>\n",
       "      <td>...</td>\n",
       "      <td>...</td>\n",
       "      <td>...</td>\n",
       "      <td>...</td>\n",
       "      <td>...</td>\n",
       "      <td>...</td>\n",
       "      <td>...</td>\n",
       "      <td>...</td>\n",
       "      <td>...</td>\n",
       "      <td>...</td>\n",
       "      <td>...</td>\n",
       "      <td>...</td>\n",
       "    </tr>\n",
       "    <tr>\n",
       "      <th>152</th>\n",
       "      <td>152</td>\n",
       "      <td>Volvo</td>\n",
       "      <td>V40</td>\n",
       "      <td>3.545</td>\n",
       "      <td>NaN</td>\n",
       "      <td>Passenger</td>\n",
       "      <td>24.40</td>\n",
       "      <td>1.9</td>\n",
       "      <td>160.0</td>\n",
       "      <td>100.5</td>\n",
       "      <td>67.6</td>\n",
       "      <td>176.6</td>\n",
       "      <td>3.042</td>\n",
       "      <td>15.8</td>\n",
       "      <td>25.0</td>\n",
       "      <td>9/21/2011</td>\n",
       "      <td>66.498812</td>\n",
       "    </tr>\n",
       "    <tr>\n",
       "      <th>153</th>\n",
       "      <td>153</td>\n",
       "      <td>Volvo</td>\n",
       "      <td>S70</td>\n",
       "      <td>15.245</td>\n",
       "      <td>NaN</td>\n",
       "      <td>Passenger</td>\n",
       "      <td>27.50</td>\n",
       "      <td>2.4</td>\n",
       "      <td>168.0</td>\n",
       "      <td>104.9</td>\n",
       "      <td>69.3</td>\n",
       "      <td>185.9</td>\n",
       "      <td>3.208</td>\n",
       "      <td>17.9</td>\n",
       "      <td>25.0</td>\n",
       "      <td>11/24/2012</td>\n",
       "      <td>70.654495</td>\n",
       "    </tr>\n",
       "    <tr>\n",
       "      <th>154</th>\n",
       "      <td>154</td>\n",
       "      <td>Volvo</td>\n",
       "      <td>V70</td>\n",
       "      <td>17.531</td>\n",
       "      <td>NaN</td>\n",
       "      <td>Passenger</td>\n",
       "      <td>28.80</td>\n",
       "      <td>2.4</td>\n",
       "      <td>168.0</td>\n",
       "      <td>104.9</td>\n",
       "      <td>69.3</td>\n",
       "      <td>186.2</td>\n",
       "      <td>3.259</td>\n",
       "      <td>17.9</td>\n",
       "      <td>25.0</td>\n",
       "      <td>6/25/2011</td>\n",
       "      <td>71.155978</td>\n",
       "    </tr>\n",
       "    <tr>\n",
       "      <th>155</th>\n",
       "      <td>155</td>\n",
       "      <td>Volvo</td>\n",
       "      <td>C70</td>\n",
       "      <td>3.493</td>\n",
       "      <td>NaN</td>\n",
       "      <td>Passenger</td>\n",
       "      <td>45.50</td>\n",
       "      <td>2.3</td>\n",
       "      <td>236.0</td>\n",
       "      <td>104.9</td>\n",
       "      <td>71.5</td>\n",
       "      <td>185.7</td>\n",
       "      <td>3.601</td>\n",
       "      <td>18.5</td>\n",
       "      <td>23.0</td>\n",
       "      <td>4/26/2011</td>\n",
       "      <td>101.623357</td>\n",
       "    </tr>\n",
       "    <tr>\n",
       "      <th>156</th>\n",
       "      <td>156</td>\n",
       "      <td>Volvo</td>\n",
       "      <td>S80</td>\n",
       "      <td>18.969</td>\n",
       "      <td>NaN</td>\n",
       "      <td>Passenger</td>\n",
       "      <td>36.00</td>\n",
       "      <td>2.9</td>\n",
       "      <td>201.0</td>\n",
       "      <td>109.9</td>\n",
       "      <td>72.1</td>\n",
       "      <td>189.8</td>\n",
       "      <td>3.600</td>\n",
       "      <td>21.1</td>\n",
       "      <td>24.0</td>\n",
       "      <td>11/14/2011</td>\n",
       "      <td>85.735655</td>\n",
       "    </tr>\n",
       "  </tbody>\n",
       "</table>\n",
       "<p>157 rows × 17 columns</p>\n",
       "</div>"
      ],
      "text/plain": [
       "     Unnamed: 0 Manufacturer    Model  Sales_in_thousands  \\\n",
       "0             0        Acura  Integra              16.919   \n",
       "1             1        Acura       TL              39.384   \n",
       "2             2        Acura       CL              14.114   \n",
       "3             3        Acura       RL               8.588   \n",
       "4             4         Audi       A4              20.397   \n",
       "..          ...          ...      ...                 ...   \n",
       "152         152        Volvo      V40               3.545   \n",
       "153         153        Volvo      S70              15.245   \n",
       "154         154        Volvo      V70              17.531   \n",
       "155         155        Volvo      C70               3.493   \n",
       "156         156        Volvo      S80              18.969   \n",
       "\n",
       "     four_year_resale_value Vehicle_type  Price_in_thousands  Engine_size  \\\n",
       "0                    16.360    Passenger               21.50          1.8   \n",
       "1                    19.875    Passenger               28.40          3.2   \n",
       "2                    18.225    Passenger                 NaN          3.2   \n",
       "3                    29.725    Passenger               42.00          3.5   \n",
       "4                    22.255    Passenger               23.99          1.8   \n",
       "..                      ...          ...                 ...          ...   \n",
       "152                     NaN    Passenger               24.40          1.9   \n",
       "153                     NaN    Passenger               27.50          2.4   \n",
       "154                     NaN    Passenger               28.80          2.4   \n",
       "155                     NaN    Passenger               45.50          2.3   \n",
       "156                     NaN    Passenger               36.00          2.9   \n",
       "\n",
       "     Horsepower  Wheelbase  Width  Length  Curb_weight  Fuel_capacity  \\\n",
       "0         140.0      101.2   67.3   172.4        2.639           13.2   \n",
       "1         225.0      108.1   70.3   192.9        3.517           17.2   \n",
       "2         225.0      106.9   70.6   192.0        3.470           17.2   \n",
       "3         210.0      114.6   71.4   196.6        3.850           18.0   \n",
       "4         150.0      102.6   68.2   178.0        2.998           16.4   \n",
       "..          ...        ...    ...     ...          ...            ...   \n",
       "152       160.0      100.5   67.6   176.6        3.042           15.8   \n",
       "153       168.0      104.9   69.3   185.9        3.208           17.9   \n",
       "154       168.0      104.9   69.3   186.2        3.259           17.9   \n",
       "155       236.0      104.9   71.5   185.7        3.601           18.5   \n",
       "156       201.0      109.9   72.1   189.8        3.600           21.1   \n",
       "\n",
       "     Fuel_efficiency Latest_Launch  Power_perf_factor  \n",
       "0               28.0      2/2/2012          58.280150  \n",
       "1               25.0      6/3/2011          91.370778  \n",
       "2               26.0      1/4/2012                NaN  \n",
       "3               22.0     3/10/2011          91.389779  \n",
       "4               27.0     10/8/2011          62.777639  \n",
       "..               ...           ...                ...  \n",
       "152             25.0     9/21/2011          66.498812  \n",
       "153             25.0    11/24/2012          70.654495  \n",
       "154             25.0     6/25/2011          71.155978  \n",
       "155             23.0     4/26/2011         101.623357  \n",
       "156             24.0    11/14/2011          85.735655  \n",
       "\n",
       "[157 rows x 17 columns]"
      ]
     },
     "execution_count": 9,
     "metadata": {},
     "output_type": "execute_result"
    }
   ],
   "source": [
    "df"
   ]
  },
  {
   "cell_type": "code",
   "execution_count": 10,
   "id": "333d9ea2-7be7-47b7-9110-f4273182931c",
   "metadata": {},
   "outputs": [
    {
     "data": {
      "text/plain": [
       "Unnamed: 0                 0\n",
       "Manufacturer               0\n",
       "Model                      0\n",
       "Sales_in_thousands         0\n",
       "four_year_resale_value    36\n",
       "Vehicle_type               0\n",
       "Price_in_thousands         2\n",
       "Engine_size                1\n",
       "Horsepower                 1\n",
       "Wheelbase                  1\n",
       "Width                      1\n",
       "Length                     1\n",
       "Curb_weight                2\n",
       "Fuel_capacity              1\n",
       "Fuel_efficiency            3\n",
       "Latest_Launch              0\n",
       "Power_perf_factor          2\n",
       "dtype: int64"
      ]
     },
     "execution_count": 10,
     "metadata": {},
     "output_type": "execute_result"
    }
   ],
   "source": [
    "df.isnull().sum()"
   ]
  },
  {
   "cell_type": "code",
   "execution_count": 11,
   "id": "f026a3ff-2a10-4d8a-be0b-9dcba3b584e0",
   "metadata": {},
   "outputs": [
    {
     "name": "stdout",
     "output_type": "stream",
     "text": [
      "<class 'pandas.core.frame.DataFrame'>\n",
      "RangeIndex: 157 entries, 0 to 156\n",
      "Data columns (total 17 columns):\n",
      " #   Column                  Non-Null Count  Dtype  \n",
      "---  ------                  --------------  -----  \n",
      " 0   Unnamed: 0              157 non-null    int64  \n",
      " 1   Manufacturer            157 non-null    object \n",
      " 2   Model                   157 non-null    object \n",
      " 3   Sales_in_thousands      157 non-null    float64\n",
      " 4   four_year_resale_value  121 non-null    float64\n",
      " 5   Vehicle_type            157 non-null    object \n",
      " 6   Price_in_thousands      155 non-null    float64\n",
      " 7   Engine_size             156 non-null    float64\n",
      " 8   Horsepower              156 non-null    float64\n",
      " 9   Wheelbase               156 non-null    float64\n",
      " 10  Width                   156 non-null    float64\n",
      " 11  Length                  156 non-null    float64\n",
      " 12  Curb_weight             155 non-null    float64\n",
      " 13  Fuel_capacity           156 non-null    float64\n",
      " 14  Fuel_efficiency         154 non-null    float64\n",
      " 15  Latest_Launch           157 non-null    object \n",
      " 16  Power_perf_factor       155 non-null    float64\n",
      "dtypes: float64(12), int64(1), object(4)\n",
      "memory usage: 21.0+ KB\n"
     ]
    }
   ],
   "source": [
    "df.info()"
   ]
  },
  {
   "cell_type": "code",
   "execution_count": 12,
   "id": "56391981-4e26-4e81-9eaf-a503010bd7b2",
   "metadata": {},
   "outputs": [
    {
     "data": {
      "text/plain": [
       "51"
      ]
     },
     "execution_count": 12,
     "metadata": {},
     "output_type": "execute_result"
    }
   ],
   "source": [
    "#total missing vlaue in data\n",
    "df.isnull().sum().sum()"
   ]
  },
  {
   "cell_type": "code",
   "execution_count": 13,
   "id": "4056cbf0-1b33-466c-859e-6308ebd5a07e",
   "metadata": {},
   "outputs": [
    {
     "data": {
      "text/html": [
       "<div>\n",
       "<style scoped>\n",
       "    .dataframe tbody tr th:only-of-type {\n",
       "        vertical-align: middle;\n",
       "    }\n",
       "\n",
       "    .dataframe tbody tr th {\n",
       "        vertical-align: top;\n",
       "    }\n",
       "\n",
       "    .dataframe thead th {\n",
       "        text-align: right;\n",
       "    }\n",
       "</style>\n",
       "<table border=\"1\" class=\"dataframe\">\n",
       "  <thead>\n",
       "    <tr style=\"text-align: right;\">\n",
       "      <th></th>\n",
       "      <th>Unnamed: 0</th>\n",
       "      <th>Manufacturer</th>\n",
       "      <th>Model</th>\n",
       "      <th>Sales_in_thousands</th>\n",
       "      <th>four_year_resale_value</th>\n",
       "      <th>Vehicle_type</th>\n",
       "      <th>Price_in_thousands</th>\n",
       "      <th>Engine_size</th>\n",
       "      <th>Horsepower</th>\n",
       "      <th>Wheelbase</th>\n",
       "      <th>Width</th>\n",
       "      <th>Length</th>\n",
       "      <th>Curb_weight</th>\n",
       "      <th>Fuel_capacity</th>\n",
       "      <th>Fuel_efficiency</th>\n",
       "      <th>Latest_Launch</th>\n",
       "      <th>Power_perf_factor</th>\n",
       "    </tr>\n",
       "  </thead>\n",
       "  <tbody>\n",
       "    <tr>\n",
       "      <th>0</th>\n",
       "      <td>0</td>\n",
       "      <td>Acura</td>\n",
       "      <td>Integra</td>\n",
       "      <td>16.919</td>\n",
       "      <td>16.360</td>\n",
       "      <td>Passenger</td>\n",
       "      <td>21.50</td>\n",
       "      <td>1.8</td>\n",
       "      <td>140.0</td>\n",
       "      <td>101.2</td>\n",
       "      <td>67.3</td>\n",
       "      <td>172.4</td>\n",
       "      <td>2.639</td>\n",
       "      <td>13.2</td>\n",
       "      <td>28.0</td>\n",
       "      <td>2/2/2012</td>\n",
       "      <td>58.280150</td>\n",
       "    </tr>\n",
       "    <tr>\n",
       "      <th>1</th>\n",
       "      <td>1</td>\n",
       "      <td>Acura</td>\n",
       "      <td>TL</td>\n",
       "      <td>39.384</td>\n",
       "      <td>19.875</td>\n",
       "      <td>Passenger</td>\n",
       "      <td>28.40</td>\n",
       "      <td>3.2</td>\n",
       "      <td>225.0</td>\n",
       "      <td>108.1</td>\n",
       "      <td>70.3</td>\n",
       "      <td>192.9</td>\n",
       "      <td>3.517</td>\n",
       "      <td>17.2</td>\n",
       "      <td>25.0</td>\n",
       "      <td>6/3/2011</td>\n",
       "      <td>91.370778</td>\n",
       "    </tr>\n",
       "    <tr>\n",
       "      <th>2</th>\n",
       "      <td>2</td>\n",
       "      <td>Acura</td>\n",
       "      <td>CL</td>\n",
       "      <td>14.114</td>\n",
       "      <td>18.225</td>\n",
       "      <td>Passenger</td>\n",
       "      <td>NaN</td>\n",
       "      <td>3.2</td>\n",
       "      <td>225.0</td>\n",
       "      <td>106.9</td>\n",
       "      <td>70.6</td>\n",
       "      <td>192.0</td>\n",
       "      <td>3.470</td>\n",
       "      <td>17.2</td>\n",
       "      <td>26.0</td>\n",
       "      <td>1/4/2012</td>\n",
       "      <td>NaN</td>\n",
       "    </tr>\n",
       "    <tr>\n",
       "      <th>3</th>\n",
       "      <td>3</td>\n",
       "      <td>Acura</td>\n",
       "      <td>RL</td>\n",
       "      <td>8.588</td>\n",
       "      <td>29.725</td>\n",
       "      <td>Passenger</td>\n",
       "      <td>42.00</td>\n",
       "      <td>3.5</td>\n",
       "      <td>210.0</td>\n",
       "      <td>114.6</td>\n",
       "      <td>71.4</td>\n",
       "      <td>196.6</td>\n",
       "      <td>3.850</td>\n",
       "      <td>18.0</td>\n",
       "      <td>22.0</td>\n",
       "      <td>3/10/2011</td>\n",
       "      <td>91.389779</td>\n",
       "    </tr>\n",
       "    <tr>\n",
       "      <th>4</th>\n",
       "      <td>4</td>\n",
       "      <td>Audi</td>\n",
       "      <td>A4</td>\n",
       "      <td>20.397</td>\n",
       "      <td>22.255</td>\n",
       "      <td>Passenger</td>\n",
       "      <td>23.99</td>\n",
       "      <td>1.8</td>\n",
       "      <td>150.0</td>\n",
       "      <td>102.6</td>\n",
       "      <td>68.2</td>\n",
       "      <td>178.0</td>\n",
       "      <td>2.998</td>\n",
       "      <td>16.4</td>\n",
       "      <td>27.0</td>\n",
       "      <td>10/8/2011</td>\n",
       "      <td>62.777639</td>\n",
       "    </tr>\n",
       "    <tr>\n",
       "      <th>5</th>\n",
       "      <td>5</td>\n",
       "      <td>Audi</td>\n",
       "      <td>A6</td>\n",
       "      <td>18.780</td>\n",
       "      <td>23.555</td>\n",
       "      <td>Passenger</td>\n",
       "      <td>33.95</td>\n",
       "      <td>2.8</td>\n",
       "      <td>200.0</td>\n",
       "      <td>108.7</td>\n",
       "      <td>76.1</td>\n",
       "      <td>192.0</td>\n",
       "      <td>3.561</td>\n",
       "      <td>18.5</td>\n",
       "      <td>22.0</td>\n",
       "      <td>8/9/2011</td>\n",
       "      <td>84.565105</td>\n",
       "    </tr>\n",
       "    <tr>\n",
       "      <th>6</th>\n",
       "      <td>6</td>\n",
       "      <td>Audi</td>\n",
       "      <td>A8</td>\n",
       "      <td>1.380</td>\n",
       "      <td>39.000</td>\n",
       "      <td>Passenger</td>\n",
       "      <td>62.00</td>\n",
       "      <td>4.2</td>\n",
       "      <td>310.0</td>\n",
       "      <td>113.0</td>\n",
       "      <td>74.0</td>\n",
       "      <td>198.2</td>\n",
       "      <td>3.902</td>\n",
       "      <td>23.7</td>\n",
       "      <td>21.0</td>\n",
       "      <td>2/27/2012</td>\n",
       "      <td>134.656858</td>\n",
       "    </tr>\n",
       "    <tr>\n",
       "      <th>7</th>\n",
       "      <td>7</td>\n",
       "      <td>BMW</td>\n",
       "      <td>323i</td>\n",
       "      <td>19.747</td>\n",
       "      <td>NaN</td>\n",
       "      <td>Passenger</td>\n",
       "      <td>26.99</td>\n",
       "      <td>2.5</td>\n",
       "      <td>170.0</td>\n",
       "      <td>107.3</td>\n",
       "      <td>68.4</td>\n",
       "      <td>176.0</td>\n",
       "      <td>3.179</td>\n",
       "      <td>16.6</td>\n",
       "      <td>26.0</td>\n",
       "      <td>6/28/2011</td>\n",
       "      <td>71.191207</td>\n",
       "    </tr>\n",
       "    <tr>\n",
       "      <th>8</th>\n",
       "      <td>8</td>\n",
       "      <td>BMW</td>\n",
       "      <td>328i</td>\n",
       "      <td>9.231</td>\n",
       "      <td>28.675</td>\n",
       "      <td>Passenger</td>\n",
       "      <td>33.40</td>\n",
       "      <td>2.8</td>\n",
       "      <td>193.0</td>\n",
       "      <td>107.3</td>\n",
       "      <td>68.5</td>\n",
       "      <td>176.0</td>\n",
       "      <td>3.197</td>\n",
       "      <td>16.6</td>\n",
       "      <td>24.0</td>\n",
       "      <td>1/29/2012</td>\n",
       "      <td>81.877069</td>\n",
       "    </tr>\n",
       "    <tr>\n",
       "      <th>9</th>\n",
       "      <td>9</td>\n",
       "      <td>BMW</td>\n",
       "      <td>528i</td>\n",
       "      <td>17.527</td>\n",
       "      <td>36.125</td>\n",
       "      <td>Passenger</td>\n",
       "      <td>38.90</td>\n",
       "      <td>2.8</td>\n",
       "      <td>193.0</td>\n",
       "      <td>111.4</td>\n",
       "      <td>70.9</td>\n",
       "      <td>188.0</td>\n",
       "      <td>3.472</td>\n",
       "      <td>18.5</td>\n",
       "      <td>25.0</td>\n",
       "      <td>4/4/2011</td>\n",
       "      <td>83.998724</td>\n",
       "    </tr>\n",
       "  </tbody>\n",
       "</table>\n",
       "</div>"
      ],
      "text/plain": [
       "   Unnamed: 0 Manufacturer    Model  Sales_in_thousands  \\\n",
       "0           0        Acura  Integra              16.919   \n",
       "1           1        Acura       TL              39.384   \n",
       "2           2        Acura       CL              14.114   \n",
       "3           3        Acura       RL               8.588   \n",
       "4           4         Audi       A4              20.397   \n",
       "5           5         Audi       A6              18.780   \n",
       "6           6         Audi       A8               1.380   \n",
       "7           7          BMW     323i              19.747   \n",
       "8           8          BMW     328i               9.231   \n",
       "9           9          BMW     528i              17.527   \n",
       "\n",
       "   four_year_resale_value Vehicle_type  Price_in_thousands  Engine_size  \\\n",
       "0                  16.360    Passenger               21.50          1.8   \n",
       "1                  19.875    Passenger               28.40          3.2   \n",
       "2                  18.225    Passenger                 NaN          3.2   \n",
       "3                  29.725    Passenger               42.00          3.5   \n",
       "4                  22.255    Passenger               23.99          1.8   \n",
       "5                  23.555    Passenger               33.95          2.8   \n",
       "6                  39.000    Passenger               62.00          4.2   \n",
       "7                     NaN    Passenger               26.99          2.5   \n",
       "8                  28.675    Passenger               33.40          2.8   \n",
       "9                  36.125    Passenger               38.90          2.8   \n",
       "\n",
       "   Horsepower  Wheelbase  Width  Length  Curb_weight  Fuel_capacity  \\\n",
       "0       140.0      101.2   67.3   172.4        2.639           13.2   \n",
       "1       225.0      108.1   70.3   192.9        3.517           17.2   \n",
       "2       225.0      106.9   70.6   192.0        3.470           17.2   \n",
       "3       210.0      114.6   71.4   196.6        3.850           18.0   \n",
       "4       150.0      102.6   68.2   178.0        2.998           16.4   \n",
       "5       200.0      108.7   76.1   192.0        3.561           18.5   \n",
       "6       310.0      113.0   74.0   198.2        3.902           23.7   \n",
       "7       170.0      107.3   68.4   176.0        3.179           16.6   \n",
       "8       193.0      107.3   68.5   176.0        3.197           16.6   \n",
       "9       193.0      111.4   70.9   188.0        3.472           18.5   \n",
       "\n",
       "   Fuel_efficiency Latest_Launch  Power_perf_factor  \n",
       "0             28.0      2/2/2012          58.280150  \n",
       "1             25.0      6/3/2011          91.370778  \n",
       "2             26.0      1/4/2012                NaN  \n",
       "3             22.0     3/10/2011          91.389779  \n",
       "4             27.0     10/8/2011          62.777639  \n",
       "5             22.0      8/9/2011          84.565105  \n",
       "6             21.0     2/27/2012         134.656858  \n",
       "7             26.0     6/28/2011          71.191207  \n",
       "8             24.0     1/29/2012          81.877069  \n",
       "9             25.0      4/4/2011          83.998724  "
      ]
     },
     "execution_count": 13,
     "metadata": {},
     "output_type": "execute_result"
    }
   ],
   "source": [
    "# top 5 rows of the data\n",
    "df.head(10)"
   ]
  },
  {
   "cell_type": "code",
   "execution_count": 14,
   "id": "f3891427-a8d3-4e8c-a2e0-058a27efdc9a",
   "metadata": {},
   "outputs": [
    {
     "name": "stdout",
     "output_type": "stream",
     "text": [
      "<class 'pandas.core.frame.DataFrame'>\n",
      "RangeIndex: 157 entries, 0 to 156\n",
      "Data columns (total 17 columns):\n",
      " #   Column                  Non-Null Count  Dtype  \n",
      "---  ------                  --------------  -----  \n",
      " 0   Unnamed: 0              157 non-null    int64  \n",
      " 1   Manufacturer            157 non-null    object \n",
      " 2   Model                   157 non-null    object \n",
      " 3   Sales_in_thousands      157 non-null    float64\n",
      " 4   four_year_resale_value  121 non-null    float64\n",
      " 5   Vehicle_type            157 non-null    object \n",
      " 6   Price_in_thousands      155 non-null    float64\n",
      " 7   Engine_size             156 non-null    float64\n",
      " 8   Horsepower              156 non-null    float64\n",
      " 9   Wheelbase               156 non-null    float64\n",
      " 10  Width                   156 non-null    float64\n",
      " 11  Length                  156 non-null    float64\n",
      " 12  Curb_weight             155 non-null    float64\n",
      " 13  Fuel_capacity           156 non-null    float64\n",
      " 14  Fuel_efficiency         154 non-null    float64\n",
      " 15  Latest_Launch           157 non-null    object \n",
      " 16  Power_perf_factor       155 non-null    float64\n",
      "dtypes: float64(12), int64(1), object(4)\n",
      "memory usage: 21.0+ KB\n"
     ]
    }
   ],
   "source": [
    "df.info()"
   ]
  },
  {
   "cell_type": "code",
   "execution_count": 17,
   "id": "1b1d3c10-a050-4df5-b068-c803ca8b5acd",
   "metadata": {},
   "outputs": [
    {
     "data": {
      "text/html": [
       "<div>\n",
       "<style scoped>\n",
       "    .dataframe tbody tr th:only-of-type {\n",
       "        vertical-align: middle;\n",
       "    }\n",
       "\n",
       "    .dataframe tbody tr th {\n",
       "        vertical-align: top;\n",
       "    }\n",
       "\n",
       "    .dataframe thead th {\n",
       "        text-align: right;\n",
       "    }\n",
       "</style>\n",
       "<table border=\"1\" class=\"dataframe\">\n",
       "  <thead>\n",
       "    <tr style=\"text-align: right;\">\n",
       "      <th></th>\n",
       "      <th>Unnamed: 0</th>\n",
       "      <th>Sales_in_thousands</th>\n",
       "      <th>four_year_resale_value</th>\n",
       "      <th>Price_in_thousands</th>\n",
       "      <th>Engine_size</th>\n",
       "      <th>Horsepower</th>\n",
       "      <th>Wheelbase</th>\n",
       "      <th>Width</th>\n",
       "      <th>Length</th>\n",
       "      <th>Curb_weight</th>\n",
       "      <th>Fuel_capacity</th>\n",
       "      <th>Fuel_efficiency</th>\n",
       "      <th>Power_perf_factor</th>\n",
       "    </tr>\n",
       "  </thead>\n",
       "  <tbody>\n",
       "    <tr>\n",
       "      <th>count</th>\n",
       "      <td>157.000000</td>\n",
       "      <td>157.000000</td>\n",
       "      <td>121.000000</td>\n",
       "      <td>155.000000</td>\n",
       "      <td>156.000000</td>\n",
       "      <td>156.000000</td>\n",
       "      <td>156.000000</td>\n",
       "      <td>156.000000</td>\n",
       "      <td>156.000000</td>\n",
       "      <td>155.000000</td>\n",
       "      <td>156.000000</td>\n",
       "      <td>154.000000</td>\n",
       "      <td>155.000000</td>\n",
       "    </tr>\n",
       "    <tr>\n",
       "      <th>mean</th>\n",
       "      <td>78.000000</td>\n",
       "      <td>52.998076</td>\n",
       "      <td>18.072975</td>\n",
       "      <td>27.390755</td>\n",
       "      <td>3.060897</td>\n",
       "      <td>185.948718</td>\n",
       "      <td>107.487179</td>\n",
       "      <td>71.150000</td>\n",
       "      <td>187.343590</td>\n",
       "      <td>3.378026</td>\n",
       "      <td>17.951923</td>\n",
       "      <td>23.844156</td>\n",
       "      <td>77.043591</td>\n",
       "    </tr>\n",
       "    <tr>\n",
       "      <th>std</th>\n",
       "      <td>45.466105</td>\n",
       "      <td>68.029422</td>\n",
       "      <td>11.453384</td>\n",
       "      <td>14.351653</td>\n",
       "      <td>1.044653</td>\n",
       "      <td>56.700321</td>\n",
       "      <td>7.641303</td>\n",
       "      <td>3.451872</td>\n",
       "      <td>13.431754</td>\n",
       "      <td>0.630502</td>\n",
       "      <td>3.887921</td>\n",
       "      <td>4.282706</td>\n",
       "      <td>25.142664</td>\n",
       "    </tr>\n",
       "    <tr>\n",
       "      <th>min</th>\n",
       "      <td>0.000000</td>\n",
       "      <td>0.110000</td>\n",
       "      <td>5.160000</td>\n",
       "      <td>9.235000</td>\n",
       "      <td>1.000000</td>\n",
       "      <td>55.000000</td>\n",
       "      <td>92.600000</td>\n",
       "      <td>62.600000</td>\n",
       "      <td>149.400000</td>\n",
       "      <td>1.895000</td>\n",
       "      <td>10.300000</td>\n",
       "      <td>15.000000</td>\n",
       "      <td>23.276272</td>\n",
       "    </tr>\n",
       "    <tr>\n",
       "      <th>25%</th>\n",
       "      <td>39.000000</td>\n",
       "      <td>14.114000</td>\n",
       "      <td>11.260000</td>\n",
       "      <td>18.017500</td>\n",
       "      <td>2.300000</td>\n",
       "      <td>149.500000</td>\n",
       "      <td>103.000000</td>\n",
       "      <td>68.400000</td>\n",
       "      <td>177.575000</td>\n",
       "      <td>2.971000</td>\n",
       "      <td>15.800000</td>\n",
       "      <td>21.000000</td>\n",
       "      <td>60.407707</td>\n",
       "    </tr>\n",
       "    <tr>\n",
       "      <th>50%</th>\n",
       "      <td>78.000000</td>\n",
       "      <td>29.450000</td>\n",
       "      <td>14.180000</td>\n",
       "      <td>22.799000</td>\n",
       "      <td>3.000000</td>\n",
       "      <td>177.500000</td>\n",
       "      <td>107.000000</td>\n",
       "      <td>70.550000</td>\n",
       "      <td>187.900000</td>\n",
       "      <td>3.342000</td>\n",
       "      <td>17.200000</td>\n",
       "      <td>24.000000</td>\n",
       "      <td>72.030917</td>\n",
       "    </tr>\n",
       "    <tr>\n",
       "      <th>75%</th>\n",
       "      <td>117.000000</td>\n",
       "      <td>67.956000</td>\n",
       "      <td>19.875000</td>\n",
       "      <td>31.947500</td>\n",
       "      <td>3.575000</td>\n",
       "      <td>215.000000</td>\n",
       "      <td>112.200000</td>\n",
       "      <td>73.425000</td>\n",
       "      <td>196.125000</td>\n",
       "      <td>3.799500</td>\n",
       "      <td>19.575000</td>\n",
       "      <td>26.000000</td>\n",
       "      <td>89.414878</td>\n",
       "    </tr>\n",
       "    <tr>\n",
       "      <th>max</th>\n",
       "      <td>156.000000</td>\n",
       "      <td>540.561000</td>\n",
       "      <td>67.550000</td>\n",
       "      <td>85.500000</td>\n",
       "      <td>8.000000</td>\n",
       "      <td>450.000000</td>\n",
       "      <td>138.700000</td>\n",
       "      <td>79.900000</td>\n",
       "      <td>224.500000</td>\n",
       "      <td>5.572000</td>\n",
       "      <td>32.000000</td>\n",
       "      <td>45.000000</td>\n",
       "      <td>188.144323</td>\n",
       "    </tr>\n",
       "  </tbody>\n",
       "</table>\n",
       "</div>"
      ],
      "text/plain": [
       "       Unnamed: 0  Sales_in_thousands  four_year_resale_value  \\\n",
       "count  157.000000          157.000000              121.000000   \n",
       "mean    78.000000           52.998076               18.072975   \n",
       "std     45.466105           68.029422               11.453384   \n",
       "min      0.000000            0.110000                5.160000   \n",
       "25%     39.000000           14.114000               11.260000   \n",
       "50%     78.000000           29.450000               14.180000   \n",
       "75%    117.000000           67.956000               19.875000   \n",
       "max    156.000000          540.561000               67.550000   \n",
       "\n",
       "       Price_in_thousands  Engine_size  Horsepower   Wheelbase       Width  \\\n",
       "count          155.000000   156.000000  156.000000  156.000000  156.000000   \n",
       "mean            27.390755     3.060897  185.948718  107.487179   71.150000   \n",
       "std             14.351653     1.044653   56.700321    7.641303    3.451872   \n",
       "min              9.235000     1.000000   55.000000   92.600000   62.600000   \n",
       "25%             18.017500     2.300000  149.500000  103.000000   68.400000   \n",
       "50%             22.799000     3.000000  177.500000  107.000000   70.550000   \n",
       "75%             31.947500     3.575000  215.000000  112.200000   73.425000   \n",
       "max             85.500000     8.000000  450.000000  138.700000   79.900000   \n",
       "\n",
       "           Length  Curb_weight  Fuel_capacity  Fuel_efficiency  \\\n",
       "count  156.000000   155.000000     156.000000       154.000000   \n",
       "mean   187.343590     3.378026      17.951923        23.844156   \n",
       "std     13.431754     0.630502       3.887921         4.282706   \n",
       "min    149.400000     1.895000      10.300000        15.000000   \n",
       "25%    177.575000     2.971000      15.800000        21.000000   \n",
       "50%    187.900000     3.342000      17.200000        24.000000   \n",
       "75%    196.125000     3.799500      19.575000        26.000000   \n",
       "max    224.500000     5.572000      32.000000        45.000000   \n",
       "\n",
       "       Power_perf_factor  \n",
       "count         155.000000  \n",
       "mean           77.043591  \n",
       "std            25.142664  \n",
       "min            23.276272  \n",
       "25%            60.407707  \n",
       "50%            72.030917  \n",
       "75%            89.414878  \n",
       "max           188.144323  "
      ]
     },
     "execution_count": 17,
     "metadata": {},
     "output_type": "execute_result"
    }
   ],
   "source": [
    "df.describe()"
   ]
  },
  {
   "cell_type": "markdown",
   "id": "81f06f39-bcc7-47fe-81bb-9212a22fa32d",
   "metadata": {},
   "source": [
    "# Unique values"
   ]
  },
  {
   "cell_type": "code",
   "execution_count": 18,
   "id": "aaefad99-3c98-4b79-8f35-86c4a0c71cb6",
   "metadata": {},
   "outputs": [
    {
     "data": {
      "text/plain": [
       "Unnamed: 0                157\n",
       "Manufacturer               30\n",
       "Model                     156\n",
       "Sales_in_thousands        157\n",
       "four_year_resale_value    117\n",
       "Vehicle_type                2\n",
       "Price_in_thousands        152\n",
       "Engine_size                31\n",
       "Horsepower                 66\n",
       "Wheelbase                  88\n",
       "Width                      78\n",
       "Length                    127\n",
       "Curb_weight               147\n",
       "Fuel_capacity              55\n",
       "Fuel_efficiency            20\n",
       "Latest_Launch             130\n",
       "Power_perf_factor         154\n",
       "dtype: int64"
      ]
     },
     "execution_count": 18,
     "metadata": {},
     "output_type": "execute_result"
    }
   ],
   "source": [
    "df.nunique()"
   ]
  },
  {
   "cell_type": "code",
   "execution_count": 19,
   "id": "1e232ae6-e692-4da2-abff-5acbd165604a",
   "metadata": {},
   "outputs": [
    {
     "data": {
      "text/plain": [
       "array(['Acura', 'Audi', 'BMW', 'Buick', 'Cadillac', 'Chevrolet',\n",
       "       'Chrysler', 'Dodge', 'Ford', 'Honda', 'Hyundai', 'Infiniti',\n",
       "       'Jaguar', 'Jeep', 'Lexus', 'Lincoln', 'Mitsubishi', 'Mercury',\n",
       "       'Mercedes-B', 'Nissan', 'Oldsmobile', 'Plymouth', 'Pontiac',\n",
       "       'Porsche', 'Saab', 'Saturn', 'Subaru', 'Toyota', 'Volkswagen',\n",
       "       'Volvo'], dtype=object)"
      ]
     },
     "execution_count": 19,
     "metadata": {},
     "output_type": "execute_result"
    }
   ],
   "source": [
    "df[\"Manufacturer\"].unique()"
   ]
  },
  {
   "cell_type": "code",
   "execution_count": 20,
   "id": "25e65af2-180d-4afc-bc59-e3bfe3162af9",
   "metadata": {},
   "outputs": [
    {
     "data": {
      "text/plain": [
       "array(['Passenger', 'Car'], dtype=object)"
      ]
     },
     "execution_count": 20,
     "metadata": {},
     "output_type": "execute_result"
    }
   ],
   "source": [
    "df[\"Vehicle_type\"].unique()"
   ]
  },
  {
   "cell_type": "code",
   "execution_count": 21,
   "id": "875e0034-7bdc-470f-913b-537f67f46a0c",
   "metadata": {},
   "outputs": [
    {
     "data": {
      "text/plain": [
       "Manufacturer\n",
       "Dodge         11\n",
       "Ford          11\n",
       "Toyota         9\n",
       "Chevrolet      9\n",
       "Mercedes-B     9\n",
       "Mitsubishi     7\n",
       "Nissan         7\n",
       "Chrysler       7\n",
       "Volvo          6\n",
       "Oldsmobile     6\n",
       "Lexus          6\n",
       "Mercury        6\n",
       "Pontiac        6\n",
       "Volkswagen     6\n",
       "Saturn         5\n",
       "Cadillac       5\n",
       "Honda          5\n",
       "Plymouth       4\n",
       "Acura          4\n",
       "Buick          4\n",
       "Audi           3\n",
       "Jeep           3\n",
       "Porsche        3\n",
       "Hyundai        3\n",
       "BMW            3\n",
       "Lincoln        3\n",
       "Saab           2\n",
       "Subaru         2\n",
       "Jaguar         1\n",
       "Infiniti       1\n",
       "Name: count, dtype: int64"
      ]
     },
     "execution_count": 21,
     "metadata": {},
     "output_type": "execute_result"
    }
   ],
   "source": [
    "df[\"Manufacturer\"].value_counts()"
   ]
  },
  {
   "cell_type": "markdown",
   "id": "48960198-ee01-45f5-8f66-aec616cadc25",
   "metadata": {},
   "source": [
    "# Data visualization"
   ]
  },
  {
   "cell_type": "code",
   "execution_count": 22,
   "id": "6a83e227-35f2-4018-8c2e-958ee4b01ad9",
   "metadata": {},
   "outputs": [
    {
     "data": {
      "image/png": "[encoded data removed]",
      "text/plain": [
       "<Figure size 1500x400 with 1 Axes>"
      ]
     },
     "metadata": {},
     "output_type": "display_data"
    }
   ],
   "source": [
    "df[\"Vehicle_type\"].value_counts()\n",
    "\n",
    "plt.figure(figsize=(15,4))\n",
    "df[\"Manufacturer\"].value_counts().plot.bar()\n",
    "plt.show()"
   ]
  },
  {
   "cell_type": "code",
   "execution_count": 23,
   "id": "1f5eafa5-ccd6-40bf-9204-5db685125b0f",
   "metadata": {},
   "outputs": [
    {
     "data": {
      "image/png": "[encoded data removed]",
      "text/plain": [
       "<Figure size 500x400 with 1 Axes>"
      ]
     },
     "metadata": {},
     "output_type": "display_data"
    }
   ],
   "source": [
    "plt.figure(figsize=(5,4))\n",
    "df[\"Vehicle_type\"].value_counts().plot.bar()\n",
    "plt.show()"
   ]
  },
  {
   "cell_type": "code",
   "execution_count": 24,
   "id": "7eb4bebf-88d6-476e-934e-299a49d4b21b",
   "metadata": {},
   "outputs": [
    {
     "data": {
      "image/png": "[encoded data removed]",
      "text/plain": [
       "<Figure size 640x480 with 1 Axes>"
      ]
     },
     "metadata": {},
     "output_type": "display_data"
    }
   ],
   "source": [
    "plt.scatter(df[\"Horsepower\"],df[\"Price_in_thousands\"])\n",
    "plt.xlabel(\"HP\")\n",
    "plt.ylabel(\"Price\")\n",
    "plt.show()"
   ]
  },
  {
   "cell_type": "code",
   "execution_count": 25,
   "id": "4eaa9243-6a77-4360-a7e3-8a703306a281",
   "metadata": {},
   "outputs": [
    {
     "data": {
      "image/png": "[encoded data removed]",
      "text/plain": [
       "<Figure size 640x480 with 1 Axes>"
      ]
     },
     "metadata": {},
     "output_type": "display_data"
    }
   ],
   "source": [
    "plt.scatter(df[\"Engine_size\"],df[\"Horsepower\"])\n",
    "plt.xlabel(\"ES\")\n",
    "plt.ylabel(\"HP\")\n",
    "plt.show()"
   ]
  },
  {
   "cell_type": "code",
   "execution_count": 49,
   "id": "a8321904-67ea-4977-bfc6-072bde594b87",
   "metadata": {},
   "outputs": [
    {
     "data": {
      "image/png": "[encoded data removed]",
      "text/plain": [
       "<Figure size 640x480 with 1 Axes>"
      ]
     },
     "metadata": {},
     "output_type": "display_data"
    }
   ],
   "source": [
    "plt.scatter(df[\"Sales_in_thousands\"],df[\"four_year_resale_value\"])\n",
    "plt.xlabel(\"Sales\")\n",
    "plt.ylabel(\"resale\")\n",
    "plt.show()"
   ]
  },
  {
   "cell_type": "code",
   "execution_count": 27,
   "id": "98afc050-f218-47c8-8232-a7751220131c",
   "metadata": {},
   "outputs": [
    {
     "name": "stdout",
     "output_type": "stream",
     "text": [
      "<class 'pandas.core.frame.DataFrame'>\n",
      "RangeIndex: 157 entries, 0 to 156\n",
      "Data columns (total 17 columns):\n",
      " #   Column                  Non-Null Count  Dtype  \n",
      "---  ------                  --------------  -----  \n",
      " 0   Unnamed: 0              157 non-null    int64  \n",
      " 1   Manufacturer            157 non-null    object \n",
      " 2   Model                   157 non-null    object \n",
      " 3   Sales_in_thousands      157 non-null    float64\n",
      " 4   four_year_resale_value  121 non-null    float64\n",
      " 5   Vehicle_type            157 non-null    object \n",
      " 6   Price_in_thousands      155 non-null    float64\n",
      " 7   Engine_size             156 non-null    float64\n",
      " 8   Horsepower              156 non-null    float64\n",
      " 9   Wheelbase               156 non-null    float64\n",
      " 10  Width                   156 non-null    float64\n",
      " 11  Length                  156 non-null    float64\n",
      " 12  Curb_weight             155 non-null    float64\n",
      " 13  Fuel_capacity           156 non-null    float64\n",
      " 14  Fuel_efficiency         154 non-null    float64\n",
      " 15  Latest_Launch           157 non-null    object \n",
      " 16  Power_perf_factor       155 non-null    float64\n",
      "dtypes: float64(12), int64(1), object(4)\n",
      "memory usage: 21.0+ KB\n"
     ]
    }
   ],
   "source": [
    "df.info()"
   ]
  },
  {
   "cell_type": "code",
   "execution_count": 28,
   "id": "56f323c7-aa3e-491f-8d75-89a36e8c267d",
   "metadata": {},
   "outputs": [
    {
     "data": {
      "image/png": "[encoded data removed]",
      "text/plain": [
       "<Figure size 640x480 with 1 Axes>"
      ]
     },
     "metadata": {},
     "output_type": "display_data"
    }
   ],
   "source": [
    "plt.scatter(df[\"Engine_size\"],df[\"Price_in_thousands\"])\n",
    "plt.xlabel(\"Engine\")\n",
    "plt.ylabel(\"Price_in_thousand\")\n",
    "plt.show()"
   ]
  },
  {
   "cell_type": "code",
   "execution_count": 29,
   "id": "e9561d30-263b-474d-a0fc-b38c66137c87",
   "metadata": {},
   "outputs": [
    {
     "name": "stdout",
     "output_type": "stream",
     "text": [
      "<class 'pandas.core.frame.DataFrame'>\n",
      "RangeIndex: 157 entries, 0 to 156\n",
      "Data columns (total 17 columns):\n",
      " #   Column                  Non-Null Count  Dtype  \n",
      "---  ------                  --------------  -----  \n",
      " 0   Unnamed: 0              157 non-null    int64  \n",
      " 1   Manufacturer            157 non-null    object \n",
      " 2   Model                   157 non-null    object \n",
      " 3   Sales_in_thousands      157 non-null    float64\n",
      " 4   four_year_resale_value  121 non-null    float64\n",
      " 5   Vehicle_type            157 non-null    object \n",
      " 6   Price_in_thousands      155 non-null    float64\n",
      " 7   Engine_size             156 non-null    float64\n",
      " 8   Horsepower              156 non-null    float64\n",
      " 9   Wheelbase               156 non-null    float64\n",
      " 10  Width                   156 non-null    float64\n",
      " 11  Length                  156 non-null    float64\n",
      " 12  Curb_weight             155 non-null    float64\n",
      " 13  Fuel_capacity           156 non-null    float64\n",
      " 14  Fuel_efficiency         154 non-null    float64\n",
      " 15  Latest_Launch           157 non-null    object \n",
      " 16  Power_perf_factor       155 non-null    float64\n",
      "dtypes: float64(12), int64(1), object(4)\n",
      "memory usage: 21.0+ KB\n"
     ]
    }
   ],
   "source": [
    "df.info()"
   ]
  },
  {
   "cell_type": "code",
   "execution_count": 30,
   "id": "354f49ee-0067-44f8-8fa1-37a65e4c20ad",
   "metadata": {},
   "outputs": [
    {
     "data": {
      "image/png": "[encoded data removed]",
      "text/plain": [
       "<Figure size 640x480 with 1 Axes>"
      ]
     },
     "metadata": {},
     "output_type": "display_data"
    }
   ],
   "source": [
    "plt.scatter(df[\"Power_perf_factor\"],df[\"Horsepower\"])\n",
    "plt.xlabel(\"Power_perf_factor\")\n",
    "plt.ylabel(\"Horsepower\")\n",
    "plt.show()"
   ]
  },
  {
   "cell_type": "code",
   "execution_count": 31,
   "id": "dfa67749-feec-4401-8be3-166164e9ead2",
   "metadata": {},
   "outputs": [
    {
     "name": "stdout",
     "output_type": "stream",
     "text": [
      "<class 'pandas.core.frame.DataFrame'>\n",
      "RangeIndex: 157 entries, 0 to 156\n",
      "Data columns (total 17 columns):\n",
      " #   Column                  Non-Null Count  Dtype  \n",
      "---  ------                  --------------  -----  \n",
      " 0   Unnamed: 0              157 non-null    int64  \n",
      " 1   Manufacturer            157 non-null    object \n",
      " 2   Model                   157 non-null    object \n",
      " 3   Sales_in_thousands      157 non-null    float64\n",
      " 4   four_year_resale_value  121 non-null    float64\n",
      " 5   Vehicle_type            157 non-null    object \n",
      " 6   Price_in_thousands      155 non-null    float64\n",
      " 7   Engine_size             156 non-null    float64\n",
      " 8   Horsepower              156 non-null    float64\n",
      " 9   Wheelbase               156 non-null    float64\n",
      " 10  Width                   156 non-null    float64\n",
      " 11  Length                  156 non-null    float64\n",
      " 12  Curb_weight             155 non-null    float64\n",
      " 13  Fuel_capacity           156 non-null    float64\n",
      " 14  Fuel_efficiency         154 non-null    float64\n",
      " 15  Latest_Launch           157 non-null    object \n",
      " 16  Power_perf_factor       155 non-null    float64\n",
      "dtypes: float64(12), int64(1), object(4)\n",
      "memory usage: 21.0+ KB\n"
     ]
    }
   ],
   "source": [
    "df.info()"
   ]
  },
  {
   "cell_type": "code",
   "execution_count": 32,
   "id": "c904d1c6-ecb0-4143-a9e1-876a02a25bc0",
   "metadata": {},
   "outputs": [
    {
     "data": {
      "image/png": "[encoded data removed]",
      "text/plain": [
       "<Figure size 640x480 with 1 Axes>"
      ]
     },
     "metadata": {},
     "output_type": "display_data"
    }
   ],
   "source": [
    "plt.scatter(df[\"Length\"],df[\"Price_in_thousands\"])\n",
    "plt.xlabel(\"Length\")\n",
    "plt.ylabel(\"Price_in_thousand\")\n",
    "plt.show()"
   ]
  },
  {
   "cell_type": "code",
   "execution_count": 33,
   "id": "5ad19a27-ea0a-42fb-9586-576c3452fdb1",
   "metadata": {},
   "outputs": [
    {
     "data": {
      "image/png": "[encoded data removed]",
      "text/plain": [
       "<Figure size 640x480 with 1 Axes>"
      ]
     },
     "metadata": {},
     "output_type": "display_data"
    }
   ],
   "source": [
    "plt.scatter(df[\"Fuel_capacity\"],df[\"Fuel_efficiency\"])\n",
    "plt.xlabel(\"Fuel_capacity\")\n",
    "plt.ylabel(\"Fuel_efficiency\")\n",
    "plt.show()"
   ]
  },
  {
   "cell_type": "code",
   "execution_count": 34,
   "id": "d26804c5-da65-4e95-b60e-e4a0e6a24beb",
   "metadata": {},
   "outputs": [
    {
     "data": {
      "image/png": "[encoded data removed]",
      "text/plain": [
       "<Figure size 640x480 with 1 Axes>"
      ]
     },
     "metadata": {},
     "output_type": "display_data"
    }
   ],
   "source": [
    "plt.scatter(df[\"Power_perf_factor\"],df[\"Fuel_efficiency\"])\n",
    "plt.xlabel(\"Power_perf_factor\")\n",
    "plt.ylabel(\"Fuel_efficiency\")\n",
    "plt.show()"
   ]
  },
  {
   "cell_type": "code",
   "execution_count": 35,
   "id": "08d1a506-1197-4d91-90a7-1cf6aa419018",
   "metadata": {},
   "outputs": [
    {
     "name": "stdout",
     "output_type": "stream",
     "text": [
      "<class 'pandas.core.frame.DataFrame'>\n",
      "RangeIndex: 157 entries, 0 to 156\n",
      "Data columns (total 17 columns):\n",
      " #   Column                  Non-Null Count  Dtype  \n",
      "---  ------                  --------------  -----  \n",
      " 0   Unnamed: 0              157 non-null    int64  \n",
      " 1   Manufacturer            157 non-null    object \n",
      " 2   Model                   157 non-null    object \n",
      " 3   Sales_in_thousands      157 non-null    float64\n",
      " 4   four_year_resale_value  121 non-null    float64\n",
      " 5   Vehicle_type            157 non-null    object \n",
      " 6   Price_in_thousands      155 non-null    float64\n",
      " 7   Engine_size             156 non-null    float64\n",
      " 8   Horsepower              156 non-null    float64\n",
      " 9   Wheelbase               156 non-null    float64\n",
      " 10  Width                   156 non-null    float64\n",
      " 11  Length                  156 non-null    float64\n",
      " 12  Curb_weight             155 non-null    float64\n",
      " 13  Fuel_capacity           156 non-null    float64\n",
      " 14  Fuel_efficiency         154 non-null    float64\n",
      " 15  Latest_Launch           157 non-null    object \n",
      " 16  Power_perf_factor       155 non-null    float64\n",
      "dtypes: float64(12), int64(1), object(4)\n",
      "memory usage: 21.0+ KB\n"
     ]
    }
   ],
   "source": [
    "df.info()"
   ]
  },
  {
   "cell_type": "markdown",
   "id": "a0733d4a-6e9a-40aa-9f23-ae3a97f16f95",
   "metadata": {},
   "source": [
    "# Column Stats"
   ]
  },
  {
   "cell_type": "code",
   "execution_count": 36,
   "id": "f14162ca-31d4-416a-83e6-8ac2c163e4db",
   "metadata": {},
   "outputs": [
    {
     "name": "stdout",
     "output_type": "stream",
     "text": [
      "Sales_in_thousands\n",
      "mean 52.99807643312102\n",
      "minimum value 0.11\n",
      "maximum 540.561\n",
      "Median 29.45\n",
      "std 68.02942199750512\n"
     ]
    }
   ],
   "source": [
    "print(\"Sales_in_thousands\")\n",
    "print(\"mean\",df[\"Sales_in_thousands\"].mean())\n",
    "print(\"minimum value\",df[\"Sales_in_thousands\"].min())\n",
    "print(\"maximum\",df[\"Sales_in_thousands\"].max())\n",
    "print(\"Median\",df[\"Sales_in_thousands\"].median())\n",
    "print(\"std\",df[\"Sales_in_thousands\"].std())"
   ]
  },
  {
   "cell_type": "code",
   "execution_count": 37,
   "id": "7b6f98e4-4f4a-4ae2-bd65-5098a296466e",
   "metadata": {},
   "outputs": [
    {
     "name": "stdout",
     "output_type": "stream",
     "text": [
      "median 29.45\n",
      "count    157.000000\n",
      "mean      52.998076\n",
      "std       68.029422\n",
      "min        0.110000\n",
      "25%       14.114000\n",
      "50%       29.450000\n",
      "75%       67.956000\n",
      "max      540.561000\n",
      "Name: Sales_in_thousands, dtype: float64\n"
     ]
    }
   ],
   "source": [
    "print((\"median\"),df[\"Sales_in_thousands\"].median())\n",
    "print(df[\"Sales_in_thousands\"].describe())"
   ]
  },
  {
   "cell_type": "code",
   "execution_count": 38,
   "id": "ed6ab68a-43dd-42f7-b702-c6c80a83af81",
   "metadata": {},
   "outputs": [
    {
     "name": "stdout",
     "output_type": "stream",
     "text": [
      "median 14.18\n",
      "count    121.000000\n",
      "mean      18.072975\n",
      "std       11.453384\n",
      "min        5.160000\n",
      "25%       11.260000\n",
      "50%       14.180000\n",
      "75%       19.875000\n",
      "max       67.550000\n",
      "Name: four_year_resale_value, dtype: float64\n"
     ]
    }
   ],
   "source": [
    "print((\"median\"),df[\"four_year_resale_value\"].median())\n",
    "print(df[\"four_year_resale_value\"].describe())"
   ]
  },
  {
   "cell_type": "code",
   "execution_count": 39,
   "id": "72e85128-6021-44cc-9aec-88d76c983677",
   "metadata": {},
   "outputs": [
    {
     "name": "stdout",
     "output_type": "stream",
     "text": [
      "median 22.799\n",
      "count    155.000000\n",
      "mean      27.390755\n",
      "std       14.351653\n",
      "min        9.235000\n",
      "25%       18.017500\n",
      "50%       22.799000\n",
      "75%       31.947500\n",
      "max       85.500000\n",
      "Name: Price_in_thousands, dtype: float64\n"
     ]
    }
   ],
   "source": [
    "print((\"median\"),df[\"Price_in_thousands\"].median())\n",
    "print(df[\"Price_in_thousands\"].describe())"
   ]
  },
  {
   "cell_type": "code",
   "execution_count": 40,
   "id": "5477ce32-36fb-42ab-8d31-5094cffa488c",
   "metadata": {},
   "outputs": [
    {
     "name": "stdout",
     "output_type": "stream",
     "text": [
      "median 3.0\n",
      "count    156.000000\n",
      "mean       3.060897\n",
      "std        1.044653\n",
      "min        1.000000\n",
      "25%        2.300000\n",
      "50%        3.000000\n",
      "75%        3.575000\n",
      "max        8.000000\n",
      "Name: Engine_size, dtype: float64\n"
     ]
    }
   ],
   "source": [
    "print((\"median\"),df[\"Engine_size\"].median())\n",
    "print(df[\"Engine_size\"].describe())"
   ]
  },
  {
   "cell_type": "code",
   "execution_count": 41,
   "id": "6e167c44-fe1a-49aa-b84b-5c9c1cb77471",
   "metadata": {},
   "outputs": [
    {
     "name": "stdout",
     "output_type": "stream",
     "text": [
      "median 177.5\n",
      "count    156.000000\n",
      "mean     185.948718\n",
      "std       56.700321\n",
      "min       55.000000\n",
      "25%      149.500000\n",
      "50%      177.500000\n",
      "75%      215.000000\n",
      "max      450.000000\n",
      "Name: Horsepower, dtype: float64\n"
     ]
    }
   ],
   "source": [
    "print((\"median\"),df[\"Horsepower\"].median())\n",
    "print(df[\"Horsepower\"].describe())"
   ]
  },
  {
   "cell_type": "code",
   "execution_count": 42,
   "id": "7ef532fd-3d52-4be8-a632-96820b603f1d",
   "metadata": {},
   "outputs": [
    {
     "name": "stdout",
     "output_type": "stream",
     "text": [
      "median 107.0\n",
      "count    156.000000\n",
      "mean     107.487179\n",
      "std        7.641303\n",
      "min       92.600000\n",
      "25%      103.000000\n",
      "50%      107.000000\n",
      "75%      112.200000\n",
      "max      138.700000\n",
      "Name: Wheelbase, dtype: float64\n"
     ]
    }
   ],
   "source": [
    "print((\"median\"),df[\"Wheelbase\"].median())\n",
    "print(df[\"Wheelbase\"].describe())"
   ]
  },
  {
   "cell_type": "code",
   "execution_count": 43,
   "id": "6c0376d0-8aa6-4027-aaa0-8419cd494b80",
   "metadata": {},
   "outputs": [
    {
     "name": "stdout",
     "output_type": "stream",
     "text": [
      "median 70.55\n",
      "count    156.000000\n",
      "mean      71.150000\n",
      "std        3.451872\n",
      "min       62.600000\n",
      "25%       68.400000\n",
      "50%       70.550000\n",
      "75%       73.425000\n",
      "max       79.900000\n",
      "Name: Width, dtype: float64\n"
     ]
    }
   ],
   "source": [
    "print((\"median\"),df[\"Width\"].median())\n",
    "print(df[\"Width\"].describe())"
   ]
  },
  {
   "cell_type": "code",
   "execution_count": 44,
   "id": "34b1f62f-f19d-4abe-9da5-b28c12cb07db",
   "metadata": {},
   "outputs": [
    {
     "name": "stdout",
     "output_type": "stream",
     "text": [
      "median 187.9\n",
      "count    156.000000\n",
      "mean     187.343590\n",
      "std       13.431754\n",
      "min      149.400000\n",
      "25%      177.575000\n",
      "50%      187.900000\n",
      "75%      196.125000\n",
      "max      224.500000\n",
      "Name: Length, dtype: float64\n"
     ]
    }
   ],
   "source": [
    "print((\"median\"),df[\"Length\"].median())\n",
    "print(df[\"Length\"].describe())"
   ]
  },
  {
   "cell_type": "code",
   "execution_count": 45,
   "id": "2a22ef7e-cad1-4b08-a9a8-c50fb1c49dae",
   "metadata": {},
   "outputs": [
    {
     "name": "stdout",
     "output_type": "stream",
     "text": [
      "median 3.342\n",
      "count    155.000000\n",
      "mean       3.378026\n",
      "std        0.630502\n",
      "min        1.895000\n",
      "25%        2.971000\n",
      "50%        3.342000\n",
      "75%        3.799500\n",
      "max        5.572000\n",
      "Name: Curb_weight, dtype: float64\n"
     ]
    }
   ],
   "source": [
    "print((\"median\"),df[\"Curb_weight\"].median())\n",
    "print(df[\"Curb_weight\"].describe())"
   ]
  },
  {
   "cell_type": "code",
   "execution_count": 46,
   "id": "04876051-5d68-41c7-906a-c74638641a47",
   "metadata": {},
   "outputs": [
    {
     "name": "stdout",
     "output_type": "stream",
     "text": [
      "median 17.2\n",
      "count    156.000000\n",
      "mean      17.951923\n",
      "std        3.887921\n",
      "min       10.300000\n",
      "25%       15.800000\n",
      "50%       17.200000\n",
      "75%       19.575000\n",
      "max       32.000000\n",
      "Name: Fuel_capacity, dtype: float64\n"
     ]
    }
   ],
   "source": [
    "print((\"median\"),df[\"Fuel_capacity\"].median())\n",
    "print(df[\"Fuel_capacity\"].describe())"
   ]
  },
  {
   "cell_type": "code",
   "execution_count": 47,
   "id": "9b2357cd-78d2-45b1-92b2-7527bd99cced",
   "metadata": {},
   "outputs": [
    {
     "name": "stdout",
     "output_type": "stream",
     "text": [
      "median 24.0\n",
      "count    154.000000\n",
      "mean      23.844156\n",
      "std        4.282706\n",
      "min       15.000000\n",
      "25%       21.000000\n",
      "50%       24.000000\n",
      "75%       26.000000\n",
      "max       45.000000\n",
      "Name: Fuel_efficiency, dtype: float64\n"
     ]
    }
   ],
   "source": [
    "print((\"median\"),df[\"Fuel_efficiency\"].median())\n",
    "print(df[\"Fuel_efficiency\"].describe())"
   ]
  },
  {
   "cell_type": "code",
   "execution_count": 48,
   "id": "4dc66f70-f149-4f8e-a63c-11e21a75903b",
   "metadata": {},
   "outputs": [
    {
     "name": "stdout",
     "output_type": "stream",
     "text": [
      "median 72.03091719\n",
      "count    155.000000\n",
      "mean      77.043591\n",
      "std       25.142664\n",
      "min       23.276272\n",
      "25%       60.407707\n",
      "50%       72.030917\n",
      "75%       89.414878\n",
      "max      188.144323\n",
      "Name: Power_perf_factor, dtype: float64\n"
     ]
    }
   ],
   "source": [
    "print((\"median\"),df[\"Power_perf_factor\"].median())\n",
    "print(df[\"Power_perf_factor\"].describe())"
   ]
  }
 ],
 "metadata": {
  "kernelspec": {
   "display_name": "Python 3 (ipykernel)",
   "language": "python",
   "name": "python3"
  },
  "language_info": {
   "codemirror_mode": {
    "name": "ipython",
    "version": 3
   },
   "file_extension": ".py",
   "mimetype": "text/x-python",
   "name": "python",
   "nbconvert_exporter": "python",
   "pygments_lexer": "ipython3",
   "version": "3.11.7"
  }
 },
 "nbformat": 4,
 "nbformat_minor": 5
}
